{
 "cells": [
  {
   "cell_type": "markdown",
   "metadata": {},
   "source": [
    "# Three classic encripted messages with increasing security\n",
    "\n",
    "\n",
    "\n",
    "## 1 - A monoalphabetical cipher\n",
    "\n",
    "The first one \"msg1\" is the result of applying a simple mono-alphabetic transformation.\n",
    "\n",
    "Statistics for the occurence of each character in texts of this kind (portuguese) are given by the dictionary PTstats\n",
    "\n",
    "### Before executing *anything* you need to obtain a file named \"work??.py\" and rename it as \"data.py\"."
   ]
  },
  {
   "cell_type": "code",
   "execution_count": 3,
   "metadata": {},
   "outputs": [
    {
     "data": {
      "image/png": "[encoded data removed]",
      "text/plain": [
       "Graphics object consisting of 1 graphics primitive"
      ]
     },
     "metadata": {},
     "output_type": "display_data"
    }
   ],
   "source": [
    "import string\n",
    "from data import *\n",
    "\n",
    "for c in string.ascii_lw\n",
    "\n",
    "display(bar_chart([Stats[c] for c in string.ascii_lowercase]))"
   ]
  },
  {
   "cell_type": "markdown",
   "metadata": {},
   "source": [
    "The message was converted to a numerical code: 'a'->1, 'b'->2,..."
   ]
  },
  {
   "cell_type": "markdown",
   "metadata": {},
   "source": [
    "### It should be quite easy to decript this message without almost any programming involved"
   ]
  },
  {
   "cell_type": "code",
   "execution_count": 43,
   "metadata": {},
   "outputs": [
    {
     "name": "stdout",
     "output_type": "stream",
     "text": [
      "ENCRYPTED MESSAGE:\n",
      "eimbehzzdyhohjxneywxbahwaxgebhxyhgebhvzxiewhaiiejznhiweuaimhbaxayjnzaywhzdknhbahihsebahwhwevzxmbhjeymhixyhixyhiedvzehshwebhihadsebahtudebmeoexaywhjuayxxieziseimayuxweiebxsxkxwhladwxijawxweibekbeiihxhijxdshiwejbemhzhkhoebyhwhtxdszjuexshywhedsbxmajxzdxdxqadxwxeisejaewedxhaidhshnshmaimxebakawhedbenakaxhhlajaxnyeiixeshjxedvzeixpebnebebxzdjbadeemebzdjzbihizsebahbevzaoxnaxxzdxjhyweyxjxhxdhbmexijawxweilajxbxdweiebmxixishsznxjheilhbxdnxyjxwxisxbxzdeqhwhayohnzymxbahyxiienoxieyhijxdshihijxdshiwxdhbmewxsxmbaxtudebyhizweimewxmzbvzaxvzxnvzebwaimbxjjxhshweneoxbhoaxfxymexlbhymeabxjhdxiabaxhabxhhabxvzeezdxghyxweixjhyienuxwxsenhkzaxlbxyjeiweoawhxizxsbhqadawxwejhdxlbhymeabxabxvzaxyxdxiyxheeimxizxjxbxjmebaimajxvzexmbxyilhbdhzyzdxbekaxhdanamxbagxwxxbxgxhjuxdxiesttsxbmawhwhimbxpxnuxwhbeiwhjzbwaimxhhzyajhkbzshwekzebbanuxjzbwxxxjmzxbyxmzbvzaxhsttvzejhymxjhdhxshahwxiabaxlegwxidhymxyuxiwhizweimefzymhxilbhymeabxihiezbelzkahweeneajxhhiiezienedeymhixjmzxdkebxndeymeweyhamewaisxbxywhwxidhymxyuxiihpbehijxbbhivzesxii\n",
      "FREQUENCY FOR EACH LETTER IN ENCRYPTED MESSAGE\n",
      "{'a': 0.138583183016512, 'e': 0.120706257804912, 'o': 0.108550992091023, 's': 0.0782698765089496, 'i': 0.0698455668100458, 'r': 0.069451089218815, 'd': 0.0558000555015957, 'n': 0.0538477868738726, 't': 0.0495047870126266, 'c': 0.0447716109338143, 'm': 0.0414230609130012, 'u': 0.0385138060219231, 'p': 0.0291236298043569, 'l': 0.0286513112251977, 'v': 0.0133593728319689, 'g': 0.0126298043568753, 'f': 0.010520743721382, 'b': 0.00992854169557375, 'q': 0.00836325794366588, 'h': 0.00713098376578327, 'j': 0.00352573886499237, 'z': 0.0032743166366033, 'x': 0.00240197030664632, 'k': 0.000818787290134591, 'y': 0.000539614263910087, 'w': 0.000463854585819342}\n",
      "{'x': 0.145, 'h': 0.112, 'e': 0.106, 'i': 0.08, 'b': 0.076, 'a': 0.07, 'w': 0.055, 'z': 0.052, 'y': 0.045, 'd': 0.043, 'j': 0.042, 'm': 0.042, 's': 0.03, 'n': 0.023, 'v': 0.014, 'k': 0.012, 'u': 0.012, 'l': 0.011, 'o': 0.009, 't': 0.007, 'g': 0.006, 'p': 0.003, 'q': 0.003, 'f': 0.002, 'c': 0.0, 'r': 0.0}\n",
      "-----------\n",
      "os-ioenncte-e a-otdairedra-oieate-oie-nasodersso n-esdo-rs-eirart -nrtdenc--eirese-oirededo-na-ie ot-esatesatesoc-noe-edoieserc-oire--coi-o-oartde -rtaasons-os-rt-adosoia-a-ade-rcdas rdadosio-iosseaes ac-esdo io-ene-e-oitede-ac-n -oa-etdeoc-ia-r ancaca-rcadaos-o rodocaersce-e--e-rs-aoir-rdeocio-r-raee-r ra-tossao-e aoc-nosa-oi-oioianc ircoo-oinc nisesn-oireio-nr-a-raanca etdota aeacei-oas rdados-r aiacdosoi-asas-e-n-a eos-eiac-at adas-aianco-edert-e-nt-airetasso--asotes ac-eses ac-esdacei-oda-a-ira--coitesndos-oda-ni-nra-na--noidrs-ia  ae-edo-o-aie-ra-at-oa-iet-oria ecasriraeriaeeria-noonca-etadosa etso--ada-o-e-nra-iat osdo-rdeasna-ie-rcrdado eca-iet-oriaria-nratacastaeoos-asna aia -oirs-r a-noa-iats-eicentncaio-raecr-r-air-adaaia-ae -acaso----ai-rdedes-ia-a--adeiosde nidrs-aeentr e-in-edo-noiir--a nidaaa -naita-ni-nrae----no et-a ecea-eredasrira-o-dascet-at-asdesndos-o-nt-eas-iet-oriasesonio-n-redoo-or aeessonso-ocot-esa -nac-oia-cot-odoter-odrs-aiatdedascet-at-asse-ioes aiies-no-ass\n"
     ]
    }
   ],
   "source": [
    "from collections import Counter\n",
    "\n",
    "\n",
    "decrypt = []\n",
    "msgencrypt= \"\"\n",
    "Alphabet=['a','b','c','d','e','f','g','h','i','j','k','l','m','n','o','p','q','r','s','t','u','v','w','x','y','z']\n",
    "\n",
    "## get the encrypted message\n",
    "\n",
    "for number in msg1:\n",
    "    msgencrypt+=str(Alphabet[number-1])\n",
    "\n",
    "## print the encrypted message\n",
    "print(\"ENCRYPTED MESSAGE:\")\n",
    "print(msgencrypt)\n",
    "\n",
    "## print the frequency\n",
    "total_len = len(msgencrypt)\n",
    "print(\"FREQUENCY FOR EACH LETTER IN ENCRYPTED MESSAGE\")\n",
    "counts=Counter(msgencrypt) # Counter({'l': 2, 'H': 1, 'e': 1, 'o': 1})\n",
    "encrypt_dict = {}\n",
    "portugues_dict = {}\n",
    "for i in string.ascii_lowercase:\n",
    "    #print(i,counts[i]/total_len)\n",
    "    encrypt_dict[i]=counts[i]/total_len\n",
    "    portugues_dict[i]=Stats[i]\n",
    "\n",
    "#print(encrypt_dict)\n",
    "\n",
    "encrypt_array_ordered=[]\n",
    "portugues_array_ordered=[]\n",
    "\n",
    "#for letter in Alphabet:\n",
    "#    portugues_array_ordered.append(Stats[letter])\n",
    "#    encrypt_array_ordered.append(counts[letter]/total_len)\n",
    "    \n",
    "portugues_array_ordered = dict( sorted(portugues_dict.items(), key=operator.itemgetter(1),reverse=True))\n",
    "encrypt_array_ordered = dict( sorted(encrypt_dict.items(), key=operator.itemgetter(1),reverse=True))\n",
    "\n",
    "print(portugues_array_ordered)\n",
    "print(encrypt_array_ordered)\n",
    "\n",
    "\n",
    "msgdecrypt = \"\"\n",
    "for letter in msgencrypt:\n",
    "    index = list(encrypt_array_ordered.keys()).index(letter)\n",
    "    if index > 10:\n",
    "        msgdecrypt+=\" \"\n",
    "        continue\n",
    "    msgdecrypt += list(portugues_array_ordered.keys())[index]\n",
    "    \n",
    "\n",
    "print(\"-----------\")\n",
    "msgdecrypt = msgdecrypt.replace(\" \", \"-\")\n",
    "msgdecrypt = msgdecrypt.replace(\"m\", \" \")\n",
    "\n",
    "print(msgdecrypt)\n",
    "\n",
    "\n",
    "\n",
    "#offset = 23\n",
    "\n",
    "\n",
    "#msgdecrypt =\"\"\n",
    "#for letter in msgencrypt:\n",
    "#    msgdecrypt += str(ord(letter) + offset)\n",
    "#print(msgdecrypt)\n"
   ]
  },
  {
   "cell_type": "markdown",
   "metadata": {},
   "source": [
    "## 2 - A simple Vigenère message\n",
    "\n",
    "In the next message, \"msg2\", a simple Vigènere was used. The \"msg2\" was coded the same manner as \"msg1\". \n",
    "\n",
    "We suggest that you use the Friedman test to determine the period (the size of the key).\n",
    "\n",
    "Friedman proved that, for  a class of cyphers that includes Vigenère, given two (long) texts, $T$ and $T'$, of the same size ($|T|=|T'|$), and with the same coincidence index ($Ic(T)=Ic(T')$),  their correspondent cyphertexts $E(T)$ and $E(T')$ satisfy\n",
    "\n",
    "$$K(T,T')=\\sum_i \\frac{\\delta(E(T)_i,E(T')_i)}{|T|}\\sim Ic(T),$$\n",
    "where\n",
    "\n",
    "$$\\delta(a,b)=\\begin{cases}1& \\text{if }a=b,\\\\\n",
    "             0& \\text{otherwise,}\n",
    "        \\end{cases}$$\n",
    "$T_i$ denotes the $i$th letter of $T$, and $Ic(T)$ the coincidence index of $T$. \n",
    "\n",
    "\n",
    "Thus, if $P^j(T)$ denotes the $j$th circular permutation of $T$, and $C$ is criptogram resulting from applying a periodic cypher of period $p$, the succesion $(K(C,P^i(C))_i$ should have local maximums that differ by exactly $p$. \n",
    "\n",
    "Knowing the period, one can study the statistic of occurences of each $\\{C_{pi+j}\\mid i\\in\\mathbb{N}\\}_{j<p}$ that should be similar to the original statistic of the source message, only affected by the circular permutation corresponging to the acting character of the key used. \n",
    "\n",
    "The carefull observation of the referred statistics an some \"trial & error\" should be enough to crack the criptogram."
   ]
  },
  {
   "cell_type": "code",
   "execution_count": null,
   "metadata": {},
   "outputs": [],
   "source": []
  },
  {
   "cell_type": "markdown",
   "metadata": {},
   "source": [
    "## 3 - Size of the key\n",
    "\n",
    "If the size of the cryptogram is kept as constant, the dificulty (on average) increases with the size of the key. \n",
    "\n",
    "In \"msg3\" a little more dificult to break cryptogram similar to \"msg2\" is here for you to try to crack."
   ]
  },
  {
   "cell_type": "code",
   "execution_count": null,
   "metadata": {},
   "outputs": [],
   "source": []
  },
  {
   "cell_type": "markdown",
   "metadata": {},
   "source": [
    "## 4 - A more chalenging Vigenére\n",
    "\n",
    "In \"msg4\" is the result of applying another Vigenère but the result was embedded in a finite field, and thus the order of the original alphabet was not preserved.\n",
    "\n",
    "\n",
    "This means that the signature of frequencies of letters **will not be preserved** in the cryptogram, not even inside each  $S_i=\\{C_{pi+j}\\mid i\\in\\mathbb{N}\\}_{j<p}$. But it will be the same for all the $S_i$. For example. If $x$ and $y$ are images of two very frequent letters in the plaintext (say $a$ and $b$), then their distance will be preserved in the frequency bar-graph in every $S_i$. This sould allow you to crack this much more challenging cryptogram.\n",
    "\n",
    "**This cryptogram is not mandatory** for the current assignment. It is here for the more courageous to measure their own strength as crackers, and to understand that, altough \"easy\" to crack, these cyphers may need a good amount of preserverance to defeat (even quite simple ones like this)."
   ]
  },
  {
   "cell_type": "code",
   "execution_count": null,
   "metadata": {},
   "outputs": [],
   "source": []
  }
 ],
 "metadata": {
  "kernelspec": {
   "display_name": "SageMath 9.4",
   "language": "sage",
   "name": "sagemath-9.4"
  },
  "language_info": {
   "codemirror_mode": {
    "name": "ipython",
    "version": 3
   },
   "file_extension": ".py",
   "mimetype": "text/x-python",
   "name": "python",
   "nbconvert_exporter": "python",
   "pygments_lexer": "ipython3",
   "version": "3.9.5"
  }
 },
 "nbformat": 4,
 "nbformat_minor": 5
}
